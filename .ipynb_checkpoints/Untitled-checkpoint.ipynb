{
 "cells": [
  {
   "cell_type": "code",
   "execution_count": 74,
   "metadata": {
    "collapsed": true
   },
   "outputs": [],
   "source": [
    "%matplotlib inline\n",
    "\n",
    "from data_tools import *\n",
    "from algorithms import *\n",
    "from plot_lib import *\n",
    "import matplotlib.pyplot as plt\n",
    "# from nets import *\n",
    "from sklearn.model_selection import cross_val_score, StratifiedKFold, train_test_split\n",
    "from sklearn.feature_selection import RFE\n",
    "from sklearn import preprocessing\n",
    "import numpy as np\n",
    "import code \n",
    "import caffe\n",
    "import scipy as nd\n",
    "\n",
    "# Container for the extraced features:\n",
    "X = np.empty([0, 1000])"
   ]
  },
  {
   "cell_type": "code",
   "execution_count": 75,
   "metadata": {
    "collapsed": false
   },
   "outputs": [],
   "source": [
    "# Loading the data as images\n",
    "DATA = np.load(\"/Volumes/MoritzBertholdHD/CellData/Experiments/Ex1/PreparedData/all_channels_80_80_full_no_zeros_in_cells.npy\")\n",
    "labels = np.load(\"/Volumes/MoritzBertholdHD/CellData/Experiments/Ex1/PreparedData/labels_80_80_full_no_zeros_in_cells.npy\")"
   ]
  },
  {
   "cell_type": "code",
   "execution_count": 76,
   "metadata": {
    "collapsed": false
   },
   "outputs": [],
   "source": [
    "#load the model\n",
    "net = caffe.Net('ModelZoo/bvlc_alexnet/deploy.prototxt',\n",
    "                'ModelZoo/bvlc_alexnet/bvlc_alexnet.caffemodel',\n",
    "                caffe.TEST)\n",
    "\n",
    "#since we classify only one image, we change batch size from 10 to 1\n",
    "net.blobs['data'].reshape(1,3,227,227)"
   ]
  },
  {
   "cell_type": "code",
   "execution_count": 77,
   "metadata": {
    "collapsed": true
   },
   "outputs": [],
   "source": [
    "# Normalizing DATA and fitting to 255\n",
    "DATA /= np.max(DATA)\n",
    "DATA *= 255."
   ]
  },
  {
   "cell_type": "code",
   "execution_count": null,
   "metadata": {
    "collapsed": false
   },
   "outputs": [],
   "source": [
    "# Reshaping the data to fit AlexNet Model 227 X 227\n",
    "# discard channel 4\n",
    "for i in xrange(DATA.shape[0]):\n",
    "\n",
    "    single_image = np.zeros([3,227,227])\n",
    "    single_image[0,:,:] = nd.misc.imresize(DATA[i,0,:,:], [227, 227], interp='bilinear', mode=None)\n",
    "    single_image[1,:,:] = nd.misc.imresize(DATA[i,1,:,:], [227, 227], interp='bilinear', mode=None)\n",
    "    single_image[2,:,:] = nd.misc.imresize(DATA[i,2,:,:], [227, 227], interp='bilinear', mode=None)\n",
    "\n",
    "    #compute\n",
    "    net.blobs['data'].data[...] = single_image\n",
    "    out = net.forward()\n",
    "    X = np.vstack((X, out[\"fc8\"][0]))\n",
    "    if i % 100 == 0:\n",
    "        print \"Image no.\", i\n",
    "        \n",
    "print X.shape\n",
    "\n"
   ]
  },
  {
   "cell_type": "code",
   "execution_count": 50,
   "metadata": {
    "collapsed": false
   },
   "outputs": [],
   "source": [
    "np.save(\"/Volumes/MoritzBertholdHD/CellData/Experiments/Ex1/PreparedData/all_channels_80_80_full_no_zeros_in_cells_alexnet_inception_fc8\", X, allow_pickle=True, fix_imports=True)\n"
   ]
  },
  {
   "cell_type": "code",
   "execution_count": 44,
   "metadata": {
    "collapsed": false
   },
   "outputs": [],
   "source": []
  },
  {
   "cell_type": "code",
   "execution_count": null,
   "metadata": {
    "collapsed": true
   },
   "outputs": [],
   "source": []
  }
 ],
 "metadata": {
  "anaconda-cloud": {},
  "kernelspec": {
   "display_name": "Python [conda root]",
   "language": "python",
   "name": "conda-root-py"
  },
  "language_info": {
   "codemirror_mode": {
    "name": "ipython",
    "version": 2
   },
   "file_extension": ".py",
   "mimetype": "text/x-python",
   "name": "python",
   "nbconvert_exporter": "python",
   "pygments_lexer": "ipython2",
   "version": "2.7.12"
  }
 },
 "nbformat": 4,
 "nbformat_minor": 2
}
